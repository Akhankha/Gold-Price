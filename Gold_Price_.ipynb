{
  "nbformat": 4,
  "nbformat_minor": 0,
  "metadata": {
    "colab": {
      "name": "Gold Price .ipynb",
      "provenance": [],
      "collapsed_sections": []
    },
    "kernelspec": {
      "name": "python3",
      "display_name": "Python 3"
    },
    "language_info": {
      "name": "python"
    }
  },
  "cells": [
    {
      "cell_type": "code",
      "metadata": {
        "id": "BhYeGgqqo3ns"
      },
      "source": [
        "import numpy as np\n",
        "import pandas as pd\n",
        "import matplotlib.pyplot as plt\n",
        "import seaborn as sns\n",
        "from sklearn.model_selection import train_test_split\n",
        "from sklearn.ensemble import RandomForestRegressor\n",
        "from sklearn import metrics"
      ],
      "execution_count": 1,
      "outputs": []
    },
    {
      "cell_type": "code",
      "metadata": {
        "id": "km2etw0HvhRn"
      },
      "source": [
        "gold_data=pd.read_csv('/content/gld_price_data.csv')"
      ],
      "execution_count": 2,
      "outputs": []
    },
    {
      "cell_type": "code",
      "metadata": {
        "colab": {
          "base_uri": "https://localhost:8080/",
          "height": 204
        },
        "id": "lo_s422HvoTh",
        "outputId": "09735ad5-a28a-40be-d432-d3431f405f3e"
      },
      "source": [
        "gold_data.head()"
      ],
      "execution_count": 3,
      "outputs": [
        {
          "output_type": "execute_result",
          "data": {
            "text/html": [
              "<div>\n",
              "<style scoped>\n",
              "    .dataframe tbody tr th:only-of-type {\n",
              "        vertical-align: middle;\n",
              "    }\n",
              "\n",
              "    .dataframe tbody tr th {\n",
              "        vertical-align: top;\n",
              "    }\n",
              "\n",
              "    .dataframe thead th {\n",
              "        text-align: right;\n",
              "    }\n",
              "</style>\n",
              "<table border=\"1\" class=\"dataframe\">\n",
              "  <thead>\n",
              "    <tr style=\"text-align: right;\">\n",
              "      <th></th>\n",
              "      <th>Date</th>\n",
              "      <th>SPX</th>\n",
              "      <th>GLD</th>\n",
              "      <th>USO</th>\n",
              "      <th>SLV</th>\n",
              "      <th>EUR/USD</th>\n",
              "    </tr>\n",
              "  </thead>\n",
              "  <tbody>\n",
              "    <tr>\n",
              "      <th>0</th>\n",
              "      <td>1/2/2008</td>\n",
              "      <td>1447.160034</td>\n",
              "      <td>84.860001</td>\n",
              "      <td>78.470001</td>\n",
              "      <td>15.180</td>\n",
              "      <td>1.471692</td>\n",
              "    </tr>\n",
              "    <tr>\n",
              "      <th>1</th>\n",
              "      <td>1/3/2008</td>\n",
              "      <td>1447.160034</td>\n",
              "      <td>85.570000</td>\n",
              "      <td>78.370003</td>\n",
              "      <td>15.285</td>\n",
              "      <td>1.474491</td>\n",
              "    </tr>\n",
              "    <tr>\n",
              "      <th>2</th>\n",
              "      <td>1/4/2008</td>\n",
              "      <td>1411.630005</td>\n",
              "      <td>85.129997</td>\n",
              "      <td>77.309998</td>\n",
              "      <td>15.167</td>\n",
              "      <td>1.475492</td>\n",
              "    </tr>\n",
              "    <tr>\n",
              "      <th>3</th>\n",
              "      <td>1/7/2008</td>\n",
              "      <td>1416.180054</td>\n",
              "      <td>84.769997</td>\n",
              "      <td>75.500000</td>\n",
              "      <td>15.053</td>\n",
              "      <td>1.468299</td>\n",
              "    </tr>\n",
              "    <tr>\n",
              "      <th>4</th>\n",
              "      <td>1/8/2008</td>\n",
              "      <td>1390.189941</td>\n",
              "      <td>86.779999</td>\n",
              "      <td>76.059998</td>\n",
              "      <td>15.590</td>\n",
              "      <td>1.557099</td>\n",
              "    </tr>\n",
              "  </tbody>\n",
              "</table>\n",
              "</div>"
            ],
            "text/plain": [
              "       Date          SPX        GLD        USO     SLV   EUR/USD\n",
              "0  1/2/2008  1447.160034  84.860001  78.470001  15.180  1.471692\n",
              "1  1/3/2008  1447.160034  85.570000  78.370003  15.285  1.474491\n",
              "2  1/4/2008  1411.630005  85.129997  77.309998  15.167  1.475492\n",
              "3  1/7/2008  1416.180054  84.769997  75.500000  15.053  1.468299\n",
              "4  1/8/2008  1390.189941  86.779999  76.059998  15.590  1.557099"
            ]
          },
          "metadata": {
            "tags": []
          },
          "execution_count": 3
        }
      ]
    },
    {
      "cell_type": "code",
      "metadata": {
        "colab": {
          "base_uri": "https://localhost:8080/",
          "height": 204
        },
        "id": "fW9INEF_vqP9",
        "outputId": "f2a73960-b50f-4fd7-d178-82112ff9207f"
      },
      "source": [
        "gold_data.tail()"
      ],
      "execution_count": 4,
      "outputs": [
        {
          "output_type": "execute_result",
          "data": {
            "text/html": [
              "<div>\n",
              "<style scoped>\n",
              "    .dataframe tbody tr th:only-of-type {\n",
              "        vertical-align: middle;\n",
              "    }\n",
              "\n",
              "    .dataframe tbody tr th {\n",
              "        vertical-align: top;\n",
              "    }\n",
              "\n",
              "    .dataframe thead th {\n",
              "        text-align: right;\n",
              "    }\n",
              "</style>\n",
              "<table border=\"1\" class=\"dataframe\">\n",
              "  <thead>\n",
              "    <tr style=\"text-align: right;\">\n",
              "      <th></th>\n",
              "      <th>Date</th>\n",
              "      <th>SPX</th>\n",
              "      <th>GLD</th>\n",
              "      <th>USO</th>\n",
              "      <th>SLV</th>\n",
              "      <th>EUR/USD</th>\n",
              "    </tr>\n",
              "  </thead>\n",
              "  <tbody>\n",
              "    <tr>\n",
              "      <th>2285</th>\n",
              "      <td>5/8/2018</td>\n",
              "      <td>2671.919922</td>\n",
              "      <td>124.589996</td>\n",
              "      <td>14.0600</td>\n",
              "      <td>15.5100</td>\n",
              "      <td>1.186789</td>\n",
              "    </tr>\n",
              "    <tr>\n",
              "      <th>2286</th>\n",
              "      <td>5/9/2018</td>\n",
              "      <td>2697.790039</td>\n",
              "      <td>124.330002</td>\n",
              "      <td>14.3700</td>\n",
              "      <td>15.5300</td>\n",
              "      <td>1.184722</td>\n",
              "    </tr>\n",
              "    <tr>\n",
              "      <th>2287</th>\n",
              "      <td>5/10/2018</td>\n",
              "      <td>2723.070068</td>\n",
              "      <td>125.180000</td>\n",
              "      <td>14.4100</td>\n",
              "      <td>15.7400</td>\n",
              "      <td>1.191753</td>\n",
              "    </tr>\n",
              "    <tr>\n",
              "      <th>2288</th>\n",
              "      <td>5/14/2018</td>\n",
              "      <td>2730.129883</td>\n",
              "      <td>124.489998</td>\n",
              "      <td>14.3800</td>\n",
              "      <td>15.5600</td>\n",
              "      <td>1.193118</td>\n",
              "    </tr>\n",
              "    <tr>\n",
              "      <th>2289</th>\n",
              "      <td>5/16/2018</td>\n",
              "      <td>2725.780029</td>\n",
              "      <td>122.543800</td>\n",
              "      <td>14.4058</td>\n",
              "      <td>15.4542</td>\n",
              "      <td>1.182033</td>\n",
              "    </tr>\n",
              "  </tbody>\n",
              "</table>\n",
              "</div>"
            ],
            "text/plain": [
              "           Date          SPX         GLD      USO      SLV   EUR/USD\n",
              "2285   5/8/2018  2671.919922  124.589996  14.0600  15.5100  1.186789\n",
              "2286   5/9/2018  2697.790039  124.330002  14.3700  15.5300  1.184722\n",
              "2287  5/10/2018  2723.070068  125.180000  14.4100  15.7400  1.191753\n",
              "2288  5/14/2018  2730.129883  124.489998  14.3800  15.5600  1.193118\n",
              "2289  5/16/2018  2725.780029  122.543800  14.4058  15.4542  1.182033"
            ]
          },
          "metadata": {
            "tags": []
          },
          "execution_count": 4
        }
      ]
    },
    {
      "cell_type": "code",
      "metadata": {
        "colab": {
          "base_uri": "https://localhost:8080/"
        },
        "id": "6yrlu08Rv5Af",
        "outputId": "3e46021e-231d-476a-88ba-794b71beeb87"
      },
      "source": [
        "gold_data.shape"
      ],
      "execution_count": 5,
      "outputs": [
        {
          "output_type": "execute_result",
          "data": {
            "text/plain": [
              "(2290, 6)"
            ]
          },
          "metadata": {
            "tags": []
          },
          "execution_count": 5
        }
      ]
    },
    {
      "cell_type": "code",
      "metadata": {
        "colab": {
          "base_uri": "https://localhost:8080/"
        },
        "id": "5WumnW7PwNlm",
        "outputId": "40d405eb-e898-4765-ea16-a3ca3d389de8"
      },
      "source": [
        "gold_data.info()"
      ],
      "execution_count": 6,
      "outputs": [
        {
          "output_type": "stream",
          "text": [
            "<class 'pandas.core.frame.DataFrame'>\n",
            "RangeIndex: 2290 entries, 0 to 2289\n",
            "Data columns (total 6 columns):\n",
            " #   Column   Non-Null Count  Dtype  \n",
            "---  ------   --------------  -----  \n",
            " 0   Date     2290 non-null   object \n",
            " 1   SPX      2290 non-null   float64\n",
            " 2   GLD      2290 non-null   float64\n",
            " 3   USO      2290 non-null   float64\n",
            " 4   SLV      2290 non-null   float64\n",
            " 5   EUR/USD  2290 non-null   float64\n",
            "dtypes: float64(5), object(1)\n",
            "memory usage: 107.5+ KB\n"
          ],
          "name": "stdout"
        }
      ]
    },
    {
      "cell_type": "code",
      "metadata": {
        "colab": {
          "base_uri": "https://localhost:8080/"
        },
        "id": "N82wYYh5wTzL",
        "outputId": "ce0c71bd-74e0-4e35-f747-6ef4f638af8d"
      },
      "source": [
        "gold_data.isnull().sum()"
      ],
      "execution_count": 7,
      "outputs": [
        {
          "output_type": "execute_result",
          "data": {
            "text/plain": [
              "Date       0\n",
              "SPX        0\n",
              "GLD        0\n",
              "USO        0\n",
              "SLV        0\n",
              "EUR/USD    0\n",
              "dtype: int64"
            ]
          },
          "metadata": {
            "tags": []
          },
          "execution_count": 7
        }
      ]
    },
    {
      "cell_type": "code",
      "metadata": {
        "colab": {
          "base_uri": "https://localhost:8080/",
          "height": 297
        },
        "id": "DUaQlBYewfHX",
        "outputId": "b3f624b5-8f22-47ee-f326-5055dd99f9df"
      },
      "source": [
        "gold_data.describe()"
      ],
      "execution_count": 8,
      "outputs": [
        {
          "output_type": "execute_result",
          "data": {
            "text/html": [
              "<div>\n",
              "<style scoped>\n",
              "    .dataframe tbody tr th:only-of-type {\n",
              "        vertical-align: middle;\n",
              "    }\n",
              "\n",
              "    .dataframe tbody tr th {\n",
              "        vertical-align: top;\n",
              "    }\n",
              "\n",
              "    .dataframe thead th {\n",
              "        text-align: right;\n",
              "    }\n",
              "</style>\n",
              "<table border=\"1\" class=\"dataframe\">\n",
              "  <thead>\n",
              "    <tr style=\"text-align: right;\">\n",
              "      <th></th>\n",
              "      <th>SPX</th>\n",
              "      <th>GLD</th>\n",
              "      <th>USO</th>\n",
              "      <th>SLV</th>\n",
              "      <th>EUR/USD</th>\n",
              "    </tr>\n",
              "  </thead>\n",
              "  <tbody>\n",
              "    <tr>\n",
              "      <th>count</th>\n",
              "      <td>2290.000000</td>\n",
              "      <td>2290.000000</td>\n",
              "      <td>2290.000000</td>\n",
              "      <td>2290.000000</td>\n",
              "      <td>2290.000000</td>\n",
              "    </tr>\n",
              "    <tr>\n",
              "      <th>mean</th>\n",
              "      <td>1654.315776</td>\n",
              "      <td>122.732875</td>\n",
              "      <td>31.842221</td>\n",
              "      <td>20.084997</td>\n",
              "      <td>1.283653</td>\n",
              "    </tr>\n",
              "    <tr>\n",
              "      <th>std</th>\n",
              "      <td>519.111540</td>\n",
              "      <td>23.283346</td>\n",
              "      <td>19.523517</td>\n",
              "      <td>7.092566</td>\n",
              "      <td>0.131547</td>\n",
              "    </tr>\n",
              "    <tr>\n",
              "      <th>min</th>\n",
              "      <td>676.530029</td>\n",
              "      <td>70.000000</td>\n",
              "      <td>7.960000</td>\n",
              "      <td>8.850000</td>\n",
              "      <td>1.039047</td>\n",
              "    </tr>\n",
              "    <tr>\n",
              "      <th>25%</th>\n",
              "      <td>1239.874969</td>\n",
              "      <td>109.725000</td>\n",
              "      <td>14.380000</td>\n",
              "      <td>15.570000</td>\n",
              "      <td>1.171313</td>\n",
              "    </tr>\n",
              "    <tr>\n",
              "      <th>50%</th>\n",
              "      <td>1551.434998</td>\n",
              "      <td>120.580002</td>\n",
              "      <td>33.869999</td>\n",
              "      <td>17.268500</td>\n",
              "      <td>1.303296</td>\n",
              "    </tr>\n",
              "    <tr>\n",
              "      <th>75%</th>\n",
              "      <td>2073.010070</td>\n",
              "      <td>132.840004</td>\n",
              "      <td>37.827501</td>\n",
              "      <td>22.882499</td>\n",
              "      <td>1.369971</td>\n",
              "    </tr>\n",
              "    <tr>\n",
              "      <th>max</th>\n",
              "      <td>2872.870117</td>\n",
              "      <td>184.589996</td>\n",
              "      <td>117.480003</td>\n",
              "      <td>47.259998</td>\n",
              "      <td>1.598798</td>\n",
              "    </tr>\n",
              "  </tbody>\n",
              "</table>\n",
              "</div>"
            ],
            "text/plain": [
              "               SPX          GLD          USO          SLV      EUR/USD\n",
              "count  2290.000000  2290.000000  2290.000000  2290.000000  2290.000000\n",
              "mean   1654.315776   122.732875    31.842221    20.084997     1.283653\n",
              "std     519.111540    23.283346    19.523517     7.092566     0.131547\n",
              "min     676.530029    70.000000     7.960000     8.850000     1.039047\n",
              "25%    1239.874969   109.725000    14.380000    15.570000     1.171313\n",
              "50%    1551.434998   120.580002    33.869999    17.268500     1.303296\n",
              "75%    2073.010070   132.840004    37.827501    22.882499     1.369971\n",
              "max    2872.870117   184.589996   117.480003    47.259998     1.598798"
            ]
          },
          "metadata": {
            "tags": []
          },
          "execution_count": 8
        }
      ]
    },
    {
      "cell_type": "code",
      "metadata": {
        "id": "_6SZl7SuwkMX"
      },
      "source": [
        "correlation = gold_data.corr()"
      ],
      "execution_count": 9,
      "outputs": []
    },
    {
      "cell_type": "code",
      "metadata": {
        "id": "_NWkn6DRxLmb",
        "colab": {
          "base_uri": "https://localhost:8080/",
          "height": 487
        },
        "outputId": "4f9c375f-7a27-4dd4-b9ea-1400aed6b425"
      },
      "source": [
        "plt.figure(figsize=(8,8))\n",
        "sns.heatmap(correlation, cbar=True, square=True, fmt='.1f', annot=True, annot_kws={'size':8}, cmap='Blues')"
      ],
      "execution_count": 10,
      "outputs": [
        {
          "output_type": "execute_result",
          "data": {
            "text/plain": [
              "<matplotlib.axes._subplots.AxesSubplot at 0x7fe9cc5b8890>"
            ]
          },
          "metadata": {
            "tags": []
          },
          "execution_count": 10
        },
        {
          "output_type": "display_data",
          "data": {
            "image/png": "[encoded data removed]",
            "text/plain": [
              "<Figure size 576x576 with 2 Axes>"
            ]
          },
          "metadata": {
            "tags": [],
            "needs_background": "light"
          }
        }
      ]
    },
    {
      "cell_type": "code",
      "metadata": {
        "colab": {
          "base_uri": "https://localhost:8080/"
        },
        "id": "3iIwIM5yZZgn",
        "outputId": "88bbb3e7-96d7-4a01-b5ba-3929ff89bf76"
      },
      "source": [
        "print(correlation['GLD'])"
      ],
      "execution_count": 11,
      "outputs": [
        {
          "output_type": "stream",
          "text": [
            "SPX        0.049345\n",
            "GLD        1.000000\n",
            "USO       -0.186360\n",
            "SLV        0.866632\n",
            "EUR/USD   -0.024375\n",
            "Name: GLD, dtype: float64\n"
          ],
          "name": "stdout"
        }
      ]
    },
    {
      "cell_type": "code",
      "metadata": {
        "colab": {
          "base_uri": "https://localhost:8080/",
          "height": 354
        },
        "id": "FtioMAgYaA_u",
        "outputId": "ec43ee48-770d-4ac0-e125-ac0d27d844c7"
      },
      "source": [
        "sns.distplot(gold_data['GLD'], color='green')"
      ],
      "execution_count": 13,
      "outputs": [
        {
          "output_type": "stream",
          "text": [
            "/usr/local/lib/python3.7/dist-packages/seaborn/distributions.py:2557: FutureWarning: `distplot` is a deprecated function and will be removed in a future version. Please adapt your code to use either `displot` (a figure-level function with similar flexibility) or `histplot` (an axes-level function for histograms).\n",
            "  warnings.warn(msg, FutureWarning)\n"
          ],
          "name": "stderr"
        },
        {
          "output_type": "execute_result",
          "data": {
            "text/plain": [
              "<matplotlib.axes._subplots.AxesSubplot at 0x7fe9bf7f5650>"
            ]
          },
          "metadata": {
            "tags": []
          },
          "execution_count": 13
        },
        {
          "output_type": "display_data",
          "data": {
            "image/png": "[encoded data removed]",
            "text/plain": [
              "<Figure size 432x288 with 1 Axes>"
            ]
          },
          "metadata": {
            "tags": [],
            "needs_background": "light"
          }
        }
      ]
    },
    {
      "cell_type": "code",
      "metadata": {
        "id": "9GoK65P-a8h0"
      },
      "source": [
        "X=gold_data.drop(['Date','GLD'], axis=1)\n",
        "Y=gold_data['GLD']"
      ],
      "execution_count": 14,
      "outputs": []
    },
    {
      "cell_type": "code",
      "metadata": {
        "colab": {
          "base_uri": "https://localhost:8080/"
        },
        "id": "i-Uvb8Izb8TY",
        "outputId": "61455de0-6135-44e7-e1df-60a8eb3e11f9"
      },
      "source": [
        "print(X)"
      ],
      "execution_count": 15,
      "outputs": [
        {
          "output_type": "stream",
          "text": [
            "              SPX        USO      SLV   EUR/USD\n",
            "0     1447.160034  78.470001  15.1800  1.471692\n",
            "1     1447.160034  78.370003  15.2850  1.474491\n",
            "2     1411.630005  77.309998  15.1670  1.475492\n",
            "3     1416.180054  75.500000  15.0530  1.468299\n",
            "4     1390.189941  76.059998  15.5900  1.557099\n",
            "...           ...        ...      ...       ...\n",
            "2285  2671.919922  14.060000  15.5100  1.186789\n",
            "2286  2697.790039  14.370000  15.5300  1.184722\n",
            "2287  2723.070068  14.410000  15.7400  1.191753\n",
            "2288  2730.129883  14.380000  15.5600  1.193118\n",
            "2289  2725.780029  14.405800  15.4542  1.182033\n",
            "\n",
            "[2290 rows x 4 columns]\n"
          ],
          "name": "stdout"
        }
      ]
    },
    {
      "cell_type": "code",
      "metadata": {
        "colab": {
          "base_uri": "https://localhost:8080/"
        },
        "id": "8mGxf2f3b-xA",
        "outputId": "8e7e6b52-8c22-40a5-a7cf-5fa06b43d6b8"
      },
      "source": [
        "print(Y)"
      ],
      "execution_count": 16,
      "outputs": [
        {
          "output_type": "stream",
          "text": [
            "0        84.860001\n",
            "1        85.570000\n",
            "2        85.129997\n",
            "3        84.769997\n",
            "4        86.779999\n",
            "           ...    \n",
            "2285    124.589996\n",
            "2286    124.330002\n",
            "2287    125.180000\n",
            "2288    124.489998\n",
            "2289    122.543800\n",
            "Name: GLD, Length: 2290, dtype: float64\n"
          ],
          "name": "stdout"
        }
      ]
    },
    {
      "cell_type": "code",
      "metadata": {
        "id": "rs_CYCxrcDOP"
      },
      "source": [
        "X_train, X_test, Y_train, Y_test = train_test_split(X,Y,test_size=0.2,random_state=2)"
      ],
      "execution_count": 18,
      "outputs": []
    },
    {
      "cell_type": "code",
      "metadata": {
        "id": "16p8Qv-wcZKh"
      },
      "source": [
        "regressor=RandomForestRegressor(n_estimators=100)"
      ],
      "execution_count": 19,
      "outputs": []
    },
    {
      "cell_type": "code",
      "metadata": {
        "colab": {
          "base_uri": "https://localhost:8080/"
        },
        "id": "fQkvgcFUckKm",
        "outputId": "e3984f74-6b78-417c-d145-bdb34245d357"
      },
      "source": [
        "regressor.fit(X_train, Y_train)"
      ],
      "execution_count": 20,
      "outputs": [
        {
          "output_type": "execute_result",
          "data": {
            "text/plain": [
              "RandomForestRegressor(bootstrap=True, ccp_alpha=0.0, criterion='mse',\n",
              "                      max_depth=None, max_features='auto', max_leaf_nodes=None,\n",
              "                      max_samples=None, min_impurity_decrease=0.0,\n",
              "                      min_impurity_split=None, min_samples_leaf=1,\n",
              "                      min_samples_split=2, min_weight_fraction_leaf=0.0,\n",
              "                      n_estimators=100, n_jobs=None, oob_score=False,\n",
              "                      random_state=None, verbose=0, warm_start=False)"
            ]
          },
          "metadata": {
            "tags": []
          },
          "execution_count": 20
        }
      ]
    },
    {
      "cell_type": "code",
      "metadata": {
        "id": "PunYU9jndDx-"
      },
      "source": [
        "test_data_prediction = regressor.predict(X_test)"
      ],
      "execution_count": 21,
      "outputs": []
    },
    {
      "cell_type": "code",
      "metadata": {
        "colab": {
          "base_uri": "https://localhost:8080/"
        },
        "id": "06lNQX3ydRUr",
        "outputId": "a1e92d63-af1b-414b-fb56-f93dca9f6c9e"
      },
      "source": [
        "print(test_data_prediction)"
      ],
      "execution_count": 22,
      "outputs": [
        {
          "output_type": "stream",
          "text": [
            "[168.77569974  82.12269988 115.59410044 127.63570085 120.63970097\n",
            " 154.77219774 150.38179908 126.20540026 117.43139863 126.01020078\n",
            " 116.83140075 171.57380062 141.39949849 168.02769864 115.36059972\n",
            " 117.72320054 141.28070312 170.06480122 160.13530314 161.08439946\n",
            " 155.19770028 124.93460027 175.99189967 157.33950425 125.11120061\n",
            "  93.75749943  77.71299987 120.80209999 119.12689932 167.44329929\n",
            "  88.07700027 125.03259986  91.17520068 117.65890041 121.01379951\n",
            " 136.58020104 115.36960114 114.8003007  147.59879975 107.27960131\n",
            " 104.29890249  87.19109765 126.43790059 118.11989955 153.94339874\n",
            " 119.57430008 108.51310004 108.43079798  93.21410046 127.06639791\n",
            "  74.55880049 113.61629912 121.34210012 111.14699917 118.76399874\n",
            " 120.44049946 159.8615     167.21040097 147.005397    85.83189867\n",
            "  94.38470024  86.87349883  90.57409996 119.03640055 126.37530098\n",
            " 127.66940027 168.81429971 122.15969932 117.28109909  98.47309995\n",
            " 168.56440144 143.25839801 132.33290165 121.16110227 121.14519932\n",
            " 119.74400037 114.52410142 117.96780057 107.13000109 127.86440064\n",
            " 113.89070001 107.51490022 116.55870077 119.67939867  89.56070086\n",
            "  88.21489864 146.88010205 127.17460014 113.73000023 110.2425984\n",
            " 108.16359882  77.43669892 170.10910216 114.06079899 121.51839913\n",
            " 127.77970164 154.96569861  91.76039956 135.55970091 158.95810311\n",
            " 125.52970083 125.40490036 130.74320117 114.8453011  119.93750018\n",
            "  92.01319971 110.0384989  166.30699936 156.72219956 114.12589946\n",
            " 106.54850138  79.58519964 113.30410062 125.81720058 106.9816994\n",
            " 118.78030063 155.8849033  160.07749887 120.49299989 133.79350336\n",
            " 101.48260014 117.44219812 119.4161005  112.93050079 102.82889906\n",
            " 160.15599798  98.98390043 147.01379874 125.68010115 169.87889898\n",
            " 125.52569865 127.35879766 127.21020135 113.69649963 112.79810063\n",
            " 123.39989902 102.17409924  89.00379965 124.22839984 101.20259932\n",
            " 106.95449911 113.41260064 117.12240079  99.3766994  121.73770033\n",
            " 163.45229983  87.37409851 106.60170019 117.08680067 127.72040128\n",
            " 124.11200067  80.5385993  120.48610059 158.16569816  87.92919958\n",
            " 110.03279978 118.77089922 172.04209876 103.0221994  105.43550072\n",
            " 122.46420066 158.44739783  87.83179832  93.28110048 112.70100051\n",
            " 176.68929874 114.2995999  119.4541004   95.0292012  125.61039994\n",
            " 166.31950204 114.73740025 116.67620119  88.26699867 149.05300109\n",
            " 120.46899962  89.58269954 112.54850017 117.42660016 118.619801\n",
            "  87.97369919  94.19550002 117.00689985 118.7019016  120.24880073\n",
            " 126.97959797 121.89869968 152.41170026 166.20220079 118.62739951\n",
            " 120.46460119 150.49020036 118.53919879 172.05199954 105.22449945\n",
            " 104.97140097 149.08650115 113.84340076 125.03220097 147.45059999\n",
            " 119.77990122 115.19790017 112.4330001  113.38440188 141.56470179\n",
            " 118.06959765 102.94830069 115.91440109 103.71520163  98.93540017\n",
            " 117.57210048  90.81820004  91.62930047 153.29979938 102.83269971\n",
            " 155.03290122 114.34200165 138.27540132  90.29939821 115.48049966\n",
            " 114.6513001  123.08750009 121.81139994 165.32490112  93.0574996\n",
            " 135.64450169 121.35559941 120.64390096 104.65560009 143.69580287\n",
            " 121.42629969 116.73490045 113.45250097 127.25959721 122.69539951\n",
            " 125.81949981 121.23920062  86.96439897 132.91130137 145.88810149\n",
            "  92.5818995  157.16099949 159.10620215 126.33939907 166.08210022\n",
            " 108.87159995 109.59040122 103.71639837  94.27720097 127.55090242\n",
            " 106.94730044 161.46959952 121.69460022 132.09150035 130.68410098\n",
            " 161.09850015  90.19949842 175.7141018  127.41460048 127.00359829\n",
            "  86.57249943 124.5804992  150.38529751  89.74429975 106.75130014\n",
            " 109.08430011  84.66639888 136.11900005 155.00250369 140.2926035\n",
            "  73.89940041 151.87190096 126.10519969 126.77399988 127.52729906\n",
            " 108.64999945 156.57570002 114.64210069 116.83310149 125.41899935\n",
            " 154.21540155 121.40669986 156.2626984   93.02120041 125.51430128\n",
            " 125.2698005   87.82070023  92.18809924 126.35899924 128.46200394\n",
            " 113.07020005 117.62089757 120.78180039 127.03609836 119.47880094\n",
            " 136.8797005   93.99579958 119.77620054 113.37750115  94.17889933\n",
            " 108.67480002  87.47689952 109.01959966  89.57219957  92.45190012\n",
            " 131.58580277 162.24810022  89.43959983 119.64050057 133.4266014\n",
            " 123.84100029 128.40400165 101.84989841  89.13289841 131.53420034\n",
            " 120.17660035 108.68990019 169.1925011  115.19550028  86.61509926\n",
            " 118.77150063  91.06129986 161.73960086 116.59900007 121.4116997\n",
            " 160.43559781 120.27519912 113.24019916 108.41799838 126.78860021\n",
            "  76.13600037 102.95069973 127.45970227 121.61269938  92.70219996\n",
            " 132.11090146 118.22610103 115.47669962 154.15910313 159.21450058\n",
            " 110.13109961 154.78059775 119.24330066 160.6352005  118.51039998\n",
            " 158.1793993  115.17059939 116.29120021 148.42829911 114.75040057\n",
            " 126.1649985  166.15739825 117.32949989 125.34089957 153.0636039\n",
            " 153.4367027  132.30430036 114.81750036 121.29700206 124.82540069\n",
            "  89.73340048 122.99179967 155.21280256 111.70360032 106.67640032\n",
            " 161.94480139 118.68859965 165.62869964 134.14780112 114.73870019\n",
            " 152.98679895 168.8034001  115.34049999 114.06200117 159.1503986\n",
            "  85.20289903 127.20180049 127.90900058 128.92409994 124.19000058\n",
            " 123.89150072  90.64710064 152.8827005   97.09839985 138.09430013\n",
            "  89.04139918 107.56250008 115.01530047 112.59210116 124.05519935\n",
            "  91.49339867 125.228301   162.34459946 119.76039893 164.98780135\n",
            " 126.93659801 112.36390024 127.49979926  94.79459889  90.84509973\n",
            " 103.53659912 120.72170008  83.21949948 126.38519983 160.8881039\n",
            " 117.32670098 118.23799996 120.11410029 122.43379941 119.98390129\n",
            " 121.42550016 118.19730087 106.79559987 148.31829996 126.12319839\n",
            " 115.70400057  74.15880029 127.85470102 154.50910058 122.64700005\n",
            " 125.58040005  88.91709984 103.63169849 124.82310064 120.29400024\n",
            "  73.17570077 151.27569999 120.99340041 104.58389994  86.30359788\n",
            " 115.07539913 172.18149807 119.9702004  160.0583982  113.30919975\n",
            " 121.53989997 118.73340117  96.01499987 118.84889992 125.6283003\n",
            " 118.48459961  95.9501005  154.18750161 121.94629982 148.03510011\n",
            " 158.61360204 113.78259989 122.49269925 148.65259813 127.02890042\n",
            " 165.88940035 136.33120059 120.05090002 166.93899879 108.44129917\n",
            " 121.98059827 139.71220097 107.35049922]\n"
          ],
          "name": "stdout"
        }
      ]
    },
    {
      "cell_type": "code",
      "metadata": {
        "colab": {
          "base_uri": "https://localhost:8080/"
        },
        "id": "FuAfmRr8dYNE",
        "outputId": "5ac7e24d-bd5f-4c2e-9636-1932df8f2d7a"
      },
      "source": [
        "error_score = metrics.r2_score(Y_test,test_data_prediction)\n",
        "print('R squared error: ',error_score)"
      ],
      "execution_count": 23,
      "outputs": [
        {
          "output_type": "stream",
          "text": [
            "R squared error:  0.9893957846951463\n"
          ],
          "name": "stdout"
        }
      ]
    },
    {
      "cell_type": "code",
      "metadata": {
        "id": "uxnJIuljfDRl"
      },
      "source": [
        "Y_test=list(Y_test)"
      ],
      "execution_count": 26,
      "outputs": []
    },
    {
      "cell_type": "code",
      "metadata": {
        "colab": {
          "base_uri": "https://localhost:8080/",
          "height": 295
        },
        "id": "6Em4e_x1d0Sh",
        "outputId": "a75132ea-d74d-49f7-939d-64815a3acf4e"
      },
      "source": [
        "plt.plot(Y_test, color='blue', label='Actual value')\n",
        "plt.plot(test_data_prediction, color='green', label='Predicted value')\n",
        "plt.title('Actual value vs Predicted value')\n",
        "plt.xlabel('Number of Values')\n",
        "plt.ylabel('GLD')\n",
        "plt.legend()\n",
        "plt.show()"
      ],
      "execution_count": 27,
      "outputs": [
        {
          "output_type": "display_data",
          "data": {
            "image/png": "[encoded data removed]",
            "text/plain": [
              "<Figure size 432x288 with 1 Axes>"
            ]
          },
          "metadata": {
            "tags": [],
            "needs_background": "light"
          }
        }
      ]
    },
    {
      "cell_type": "code",
      "metadata": {
        "id": "ZsDUzwtte6Ld"
      },
      "source": [
        ""
      ],
      "execution_count": null,
      "outputs": []
    }
  ]
}